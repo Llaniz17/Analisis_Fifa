{
  "nbformat": 4,
  "nbformat_minor": 0,
  "metadata": {
    "colab": {
      "name": "fifa20.ipynb",
      "provenance": [],
      "collapsed_sections": [],
      "toc_visible": true,
      "authorship_tag": "ABX9TyPS+taxJtJXMitQ+3aTpZAb",
      "include_colab_link": true
    },
    "kernelspec": {
      "name": "python3",
      "display_name": "Python 3"
    },
    "language_info": {
      "name": "python"
    }
  },
  "cells": [
    {
      "cell_type": "markdown",
      "metadata": {
        "id": "view-in-github",
        "colab_type": "text"
      },
      "source": [
        "<a href=\"https://colab.research.google.com/github/Llaniz17/Analisis_Fifa/blob/main/fifa20.ipynb\" target=\"_parent\"><img src=\"https://colab.research.google.com/assets/colab-badge.svg\" alt=\"Open In Colab\"/></a>"
      ]
    },
    {
      "cell_type": "code",
      "execution_count": 28,
      "metadata": {
        "id": "V2C6RLiW6WdL"
      },
      "outputs": [],
      "source": [
        "import pandas as pd\n",
        "import matplotlib.pyplot as plt"
      ]
    },
    {
      "cell_type": "code",
      "source": [
        "fifa20 = pd.read_csv(\"players_20.csv\")"
      ],
      "metadata": {
        "id": "H-t0UQaD7ZOX"
      },
      "execution_count": 5,
      "outputs": []
    },
    {
      "cell_type": "code",
      "source": [
        "fifa20.head(2)"
      ],
      "metadata": {
        "id": "1JT17DPF74aE"
      },
      "execution_count": null,
      "outputs": []
    },
    {
      "cell_type": "code",
      "source": [
        "fifa20.shape"
      ],
      "metadata": {
        "id": "L9DNtOPV8sUz"
      },
      "execution_count": null,
      "outputs": []
    },
    {
      "cell_type": "code",
      "source": [
        "fifa20.columns.values"
      ],
      "metadata": {
        "id": "i3t-riZx82YZ"
      },
      "execution_count": null,
      "outputs": []
    },
    {
      "cell_type": "code",
      "source": [
        "fifa20.describe()"
      ],
      "metadata": {
        "id": "PDw_ZijU89dJ"
      },
      "execution_count": null,
      "outputs": []
    },
    {
      "cell_type": "code",
      "source": [
        "fifa20.dtypes"
      ],
      "metadata": {
        "id": "nD33Ewo99chD"
      },
      "execution_count": null,
      "outputs": []
    },
    {
      "cell_type": "code",
      "source": [
        "fifa20_1 = fifa20[[\"short_name\",\"age\",\"height_cm\",\"nationality\",\"club\",\"overall\",\"potential\",\n",
        "             \"value_eur\",\"wage_eur\",\"player_positions\",\"weak_foot\",\"skill_moves\"]]"
      ],
      "metadata": {
        "id": "JaOWcZu29qN6"
      },
      "execution_count": 31,
      "outputs": []
    },
    {
      "cell_type": "code",
      "source": [
        "fifa20_1.head()"
      ],
      "metadata": {
        "id": "rzVEEtto_CEU"
      },
      "execution_count": null,
      "outputs": []
    },
    {
      "cell_type": "code",
      "source": [
        "type(fifa20_1)"
      ],
      "metadata": {
        "id": "7ibq3GmdAMSG"
      },
      "execution_count": null,
      "outputs": []
    },
    {
      "cell_type": "code",
      "source": [
        "colombia = fifa20_1[fifa20_1[\"nationality\"] == \"Colombia\"]\n",
        "print(colombia.shape)"
      ],
      "metadata": {
        "id": "AimCn9FGAURB"
      },
      "execution_count": null,
      "outputs": []
    },
    {
      "cell_type": "code",
      "source": [
        "colombia.head()"
      ],
      "metadata": {
        "id": "pL3_ZjA7A_1J"
      },
      "execution_count": null,
      "outputs": []
    },
    {
      "cell_type": "code",
      "source": [
        "colombia.tail()"
      ],
      "metadata": {
        "id": "bG13hAY0BPyo"
      },
      "execution_count": null,
      "outputs": []
    },
    {
      "cell_type": "code",
      "source": [
        "colombia.sample(5)"
      ],
      "metadata": {
        "id": "81-vv3JDBsED"
      },
      "execution_count": null,
      "outputs": []
    },
    {
      "cell_type": "code",
      "source": [
        "cucuta = fifa20_1[fifa20_1[\"club\"] == \"Cúcuta Deportivo\"]\n",
        "print(cucuta.shape)"
      ],
      "metadata": {
        "id": "dtaagrV2CZTf"
      },
      "execution_count": null,
      "outputs": []
    },
    {
      "cell_type": "code",
      "source": [
        "cucuta.sample(5)"
      ],
      "metadata": {
        "id": "4iA8krY4Cmmo"
      },
      "execution_count": null,
      "outputs": []
    },
    {
      "cell_type": "code",
      "source": [
        "buca = fifa20_1[fifa20_1[\"club\"] == \"Atlético Bucaramanga\"]\n",
        "print(buca.shape)"
      ],
      "metadata": {
        "id": "09-gx_VXDr8d"
      },
      "execution_count": null,
      "outputs": []
    },
    {
      "cell_type": "code",
      "source": [
        "buca.sample(5)"
      ],
      "metadata": {
        "id": "8UOt5FIwD4YB"
      },
      "execution_count": null,
      "outputs": []
    },
    {
      "cell_type": "markdown",
      "source": [
        "# **Quien es mejor?** **Cúcuta vs Bucaramanga**"
      ],
      "metadata": {
        "id": "g2-TqmKJFFdW"
      }
    },
    {
      "cell_type": "code",
      "source": [
        "plt.figure()\n",
        "\n",
        "plt.subplot(121)\n",
        "plt.boxplot(cucuta[\"overall\"])\n",
        "plt.ylabel(\"General\")\n",
        "plt.title(\"Cúcuta\")\n",
        "plt.grid(True)\n",
        "\n",
        "plt.subplot(122)\n",
        "plt.boxplot(buca[\"overall\"])\n",
        "plt.title(\"Bucaramanga\")\n",
        "plt.grid(True)"
      ],
      "metadata": {
        "id": "8GhvPk49D-kW"
      },
      "execution_count": null,
      "outputs": []
    },
    {
      "cell_type": "code",
      "source": [
        "print(cucuta[\"potential\"].describe())\n",
        "print(buca[\"potential\"].describe())"
      ],
      "metadata": {
        "id": "ickWxs2aHX8F"
      },
      "execution_count": null,
      "outputs": []
    },
    {
      "cell_type": "markdown",
      "source": [
        "***Relación edades y valoraciones***"
      ],
      "metadata": {
        "id": "keYEJxJXKviS"
      }
    },
    {
      "cell_type": "code",
      "source": [
        "fifa20_1.plot(kind = \"scatter\", x = \"age\", y = \"value_eur\")"
      ],
      "metadata": {
        "colab": {
          "base_uri": "https://localhost:8080/",
          "height": 307
        },
        "id": "0KCik6m-KpTN",
        "outputId": "671a3941-bbf3-4d4e-bd37-54906386101d"
      },
      "execution_count": 19,
      "outputs": [
        {
          "output_type": "execute_result",
          "data": {
            "text/plain": [
              "<matplotlib.axes._subplots.AxesSubplot at 0x7fd90bdbcd50>"
            ]
          },
          "metadata": {},
          "execution_count": 19
        },
        {
          "output_type": "display_data",
          "data": {
            "image/png": "[encoded data removed]",
            "text/plain": [
              "<Figure size 432x288 with 1 Axes>"
            ]
          },
          "metadata": {
            "needs_background": "light"
          }
        }
      ]
    },
    {
      "cell_type": "code",
      "source": [
        "fifa20_1.describe()"
      ],
      "metadata": {
        "colab": {
          "base_uri": "https://localhost:8080/",
          "height": 300
        },
        "id": "FseYwRTVMrtF",
        "outputId": "f5323692-5af9-4479-e774-ab46e3ed9da2"
      },
      "execution_count": 20,
      "outputs": [
        {
          "output_type": "execute_result",
          "data": {
            "text/html": [
              "<div>\n",
              "<style scoped>\n",
              "    .dataframe tbody tr th:only-of-type {\n",
              "        vertical-align: middle;\n",
              "    }\n",
              "\n",
              "    .dataframe tbody tr th {\n",
              "        vertical-align: top;\n",
              "    }\n",
              "\n",
              "    .dataframe thead th {\n",
              "        text-align: right;\n",
              "    }\n",
              "</style>\n",
              "<table border=\"1\" class=\"dataframe\">\n",
              "  <thead>\n",
              "    <tr style=\"text-align: right;\">\n",
              "      <th></th>\n",
              "      <th>age</th>\n",
              "      <th>height_cm</th>\n",
              "      <th>overall</th>\n",
              "      <th>potential</th>\n",
              "      <th>value_eur</th>\n",
              "      <th>wage_eur</th>\n",
              "      <th>weak_foot</th>\n",
              "      <th>skill_moves</th>\n",
              "    </tr>\n",
              "  </thead>\n",
              "  <tbody>\n",
              "    <tr>\n",
              "      <th>count</th>\n",
              "      <td>18278.000000</td>\n",
              "      <td>18278.000000</td>\n",
              "      <td>18278.000000</td>\n",
              "      <td>18278.000000</td>\n",
              "      <td>1.827800e+04</td>\n",
              "      <td>18278.000000</td>\n",
              "      <td>18278.000000</td>\n",
              "      <td>18278.000000</td>\n",
              "    </tr>\n",
              "    <tr>\n",
              "      <th>mean</th>\n",
              "      <td>25.283291</td>\n",
              "      <td>181.362184</td>\n",
              "      <td>66.244994</td>\n",
              "      <td>71.546887</td>\n",
              "      <td>2.484038e+06</td>\n",
              "      <td>9456.942773</td>\n",
              "      <td>2.944250</td>\n",
              "      <td>2.368038</td>\n",
              "    </tr>\n",
              "    <tr>\n",
              "      <th>std</th>\n",
              "      <td>4.656964</td>\n",
              "      <td>6.756961</td>\n",
              "      <td>6.949953</td>\n",
              "      <td>6.139669</td>\n",
              "      <td>5.585481e+06</td>\n",
              "      <td>21351.714095</td>\n",
              "      <td>0.664656</td>\n",
              "      <td>0.765038</td>\n",
              "    </tr>\n",
              "    <tr>\n",
              "      <th>min</th>\n",
              "      <td>16.000000</td>\n",
              "      <td>156.000000</td>\n",
              "      <td>48.000000</td>\n",
              "      <td>49.000000</td>\n",
              "      <td>0.000000e+00</td>\n",
              "      <td>0.000000</td>\n",
              "      <td>1.000000</td>\n",
              "      <td>1.000000</td>\n",
              "    </tr>\n",
              "    <tr>\n",
              "      <th>25%</th>\n",
              "      <td>22.000000</td>\n",
              "      <td>177.000000</td>\n",
              "      <td>62.000000</td>\n",
              "      <td>67.000000</td>\n",
              "      <td>3.250000e+05</td>\n",
              "      <td>1000.000000</td>\n",
              "      <td>3.000000</td>\n",
              "      <td>2.000000</td>\n",
              "    </tr>\n",
              "    <tr>\n",
              "      <th>50%</th>\n",
              "      <td>25.000000</td>\n",
              "      <td>181.000000</td>\n",
              "      <td>66.000000</td>\n",
              "      <td>71.000000</td>\n",
              "      <td>7.000000e+05</td>\n",
              "      <td>3000.000000</td>\n",
              "      <td>3.000000</td>\n",
              "      <td>2.000000</td>\n",
              "    </tr>\n",
              "    <tr>\n",
              "      <th>75%</th>\n",
              "      <td>29.000000</td>\n",
              "      <td>186.000000</td>\n",
              "      <td>71.000000</td>\n",
              "      <td>75.000000</td>\n",
              "      <td>2.100000e+06</td>\n",
              "      <td>8000.000000</td>\n",
              "      <td>3.000000</td>\n",
              "      <td>3.000000</td>\n",
              "    </tr>\n",
              "    <tr>\n",
              "      <th>max</th>\n",
              "      <td>42.000000</td>\n",
              "      <td>205.000000</td>\n",
              "      <td>94.000000</td>\n",
              "      <td>95.000000</td>\n",
              "      <td>1.055000e+08</td>\n",
              "      <td>565000.000000</td>\n",
              "      <td>5.000000</td>\n",
              "      <td>5.000000</td>\n",
              "    </tr>\n",
              "  </tbody>\n",
              "</table>\n",
              "</div>"
            ],
            "text/plain": [
              "                age     height_cm  ...     weak_foot   skill_moves\n",
              "count  18278.000000  18278.000000  ...  18278.000000  18278.000000\n",
              "mean      25.283291    181.362184  ...      2.944250      2.368038\n",
              "std        4.656964      6.756961  ...      0.664656      0.765038\n",
              "min       16.000000    156.000000  ...      1.000000      1.000000\n",
              "25%       22.000000    177.000000  ...      3.000000      2.000000\n",
              "50%       25.000000    181.000000  ...      3.000000      2.000000\n",
              "75%       29.000000    186.000000  ...      3.000000      3.000000\n",
              "max       42.000000    205.000000  ...      5.000000      5.000000\n",
              "\n",
              "[8 rows x 8 columns]"
            ]
          },
          "metadata": {},
          "execution_count": 20
        }
      ]
    },
    {
      "cell_type": "code",
      "source": [
        "cucuta.describe()"
      ],
      "metadata": {
        "colab": {
          "base_uri": "https://localhost:8080/",
          "height": 300
        },
        "id": "LplT59QeNxmE",
        "outputId": "8fa948be-25b7-45b9-cb3a-414616957592"
      },
      "execution_count": 21,
      "outputs": [
        {
          "output_type": "execute_result",
          "data": {
            "text/html": [
              "<div>\n",
              "<style scoped>\n",
              "    .dataframe tbody tr th:only-of-type {\n",
              "        vertical-align: middle;\n",
              "    }\n",
              "\n",
              "    .dataframe tbody tr th {\n",
              "        vertical-align: top;\n",
              "    }\n",
              "\n",
              "    .dataframe thead th {\n",
              "        text-align: right;\n",
              "    }\n",
              "</style>\n",
              "<table border=\"1\" class=\"dataframe\">\n",
              "  <thead>\n",
              "    <tr style=\"text-align: right;\">\n",
              "      <th></th>\n",
              "      <th>age</th>\n",
              "      <th>height_cm</th>\n",
              "      <th>overall</th>\n",
              "      <th>potential</th>\n",
              "      <th>value_eur</th>\n",
              "      <th>wage_eur</th>\n",
              "      <th>weak_foot</th>\n",
              "      <th>skill_moves</th>\n",
              "    </tr>\n",
              "  </thead>\n",
              "  <tbody>\n",
              "    <tr>\n",
              "      <th>count</th>\n",
              "      <td>28.000000</td>\n",
              "      <td>28.000000</td>\n",
              "      <td>28.000000</td>\n",
              "      <td>28.000000</td>\n",
              "      <td>2.800000e+01</td>\n",
              "      <td>28.000000</td>\n",
              "      <td>28.000000</td>\n",
              "      <td>28.000000</td>\n",
              "    </tr>\n",
              "    <tr>\n",
              "      <th>mean</th>\n",
              "      <td>27.392857</td>\n",
              "      <td>178.071429</td>\n",
              "      <td>63.714286</td>\n",
              "      <td>67.214286</td>\n",
              "      <td>6.151786e+05</td>\n",
              "      <td>1035.714286</td>\n",
              "      <td>2.892857</td>\n",
              "      <td>2.321429</td>\n",
              "    </tr>\n",
              "    <tr>\n",
              "      <th>std</th>\n",
              "      <td>4.408235</td>\n",
              "      <td>5.836847</td>\n",
              "      <td>5.002645</td>\n",
              "      <td>3.975454</td>\n",
              "      <td>8.999182e+05</td>\n",
              "      <td>188.982237</td>\n",
              "      <td>0.566947</td>\n",
              "      <td>0.669636</td>\n",
              "    </tr>\n",
              "    <tr>\n",
              "      <th>min</th>\n",
              "      <td>21.000000</td>\n",
              "      <td>165.000000</td>\n",
              "      <td>52.000000</td>\n",
              "      <td>60.000000</td>\n",
              "      <td>8.000000e+04</td>\n",
              "      <td>1000.000000</td>\n",
              "      <td>2.000000</td>\n",
              "      <td>1.000000</td>\n",
              "    </tr>\n",
              "    <tr>\n",
              "      <th>25%</th>\n",
              "      <td>24.500000</td>\n",
              "      <td>174.750000</td>\n",
              "      <td>61.500000</td>\n",
              "      <td>64.750000</td>\n",
              "      <td>2.450000e+05</td>\n",
              "      <td>1000.000000</td>\n",
              "      <td>3.000000</td>\n",
              "      <td>2.000000</td>\n",
              "    </tr>\n",
              "    <tr>\n",
              "      <th>50%</th>\n",
              "      <td>26.500000</td>\n",
              "      <td>177.500000</td>\n",
              "      <td>65.000000</td>\n",
              "      <td>67.000000</td>\n",
              "      <td>4.500000e+05</td>\n",
              "      <td>1000.000000</td>\n",
              "      <td>3.000000</td>\n",
              "      <td>2.000000</td>\n",
              "    </tr>\n",
              "    <tr>\n",
              "      <th>75%</th>\n",
              "      <td>30.000000</td>\n",
              "      <td>181.250000</td>\n",
              "      <td>66.500000</td>\n",
              "      <td>69.000000</td>\n",
              "      <td>6.625000e+05</td>\n",
              "      <td>1000.000000</td>\n",
              "      <td>3.000000</td>\n",
              "      <td>3.000000</td>\n",
              "    </tr>\n",
              "    <tr>\n",
              "      <th>max</th>\n",
              "      <td>38.000000</td>\n",
              "      <td>194.000000</td>\n",
              "      <td>73.000000</td>\n",
              "      <td>76.000000</td>\n",
              "      <td>5.000000e+06</td>\n",
              "      <td>2000.000000</td>\n",
              "      <td>4.000000</td>\n",
              "      <td>4.000000</td>\n",
              "    </tr>\n",
              "  </tbody>\n",
              "</table>\n",
              "</div>"
            ],
            "text/plain": [
              "             age   height_cm    overall  ...     wage_eur  weak_foot  skill_moves\n",
              "count  28.000000   28.000000  28.000000  ...    28.000000  28.000000    28.000000\n",
              "mean   27.392857  178.071429  63.714286  ...  1035.714286   2.892857     2.321429\n",
              "std     4.408235    5.836847   5.002645  ...   188.982237   0.566947     0.669636\n",
              "min    21.000000  165.000000  52.000000  ...  1000.000000   2.000000     1.000000\n",
              "25%    24.500000  174.750000  61.500000  ...  1000.000000   3.000000     2.000000\n",
              "50%    26.500000  177.500000  65.000000  ...  1000.000000   3.000000     2.000000\n",
              "75%    30.000000  181.250000  66.500000  ...  1000.000000   3.000000     3.000000\n",
              "max    38.000000  194.000000  73.000000  ...  2000.000000   4.000000     4.000000\n",
              "\n",
              "[8 rows x 8 columns]"
            ]
          },
          "metadata": {},
          "execution_count": 21
        }
      ]
    },
    {
      "cell_type": "code",
      "source": [
        "salario_alto = cucuta[cucuta[\"wage_eur\"]>1000]\n",
        "salario_alto"
      ],
      "metadata": {
        "id": "MJemdjhXMvBq"
      },
      "execution_count": null,
      "outputs": []
    },
    {
      "cell_type": "markdown",
      "source": [
        "**Potenciales**"
      ],
      "metadata": {
        "id": "K_LZk6Q_RrR7"
      }
    },
    {
      "cell_type": "code",
      "source": [
        "plt.hist(fifa20_1[\"potential\"])\n",
        "plt.xlabel(\"Potencial\")\n",
        "plt.ylabel(\"Frecuencia\")\n",
        "plt.title(\"Potencial jugadores\")"
      ],
      "metadata": {
        "id": "ku29CzeQN_qN"
      },
      "execution_count": null,
      "outputs": []
    },
    {
      "cell_type": "code",
      "source": [
        "plt.hist(cucuta[\"potential\"])\n",
        "plt.xlabel(\"Potencial\")\n",
        "plt.ylabel(\"Frecuencia\")\n",
        "plt.title(\"Potencial jugadores del Cúcuta\")"
      ],
      "metadata": {
        "id": "RcYaeRAdQgi2"
      },
      "execution_count": null,
      "outputs": []
    },
    {
      "cell_type": "markdown",
      "source": [
        "**Menores y mayores del juego**"
      ],
      "metadata": {
        "id": "SY82Ax5ERvl0"
      }
    },
    {
      "cell_type": "code",
      "source": [
        "viejo = fifa20_1[fifa20_1[\"age\"]>40]\n",
        "viejo\n"
      ],
      "metadata": {
        "id": "iwI9ZXFhSGYD"
      },
      "execution_count": null,
      "outputs": []
    },
    {
      "cell_type": "code",
      "source": [
        "joven = fifa20_1[fifa20_1[\"age\"]<17]\n",
        "joven"
      ],
      "metadata": {
        "id": "7M52odYOS7yF"
      },
      "execution_count": null,
      "outputs": []
    },
    {
      "cell_type": "code",
      "source": [
        "malo = fifa20_1[fifa20_1[\"overall\"]<70]\n",
        "malo"
      ],
      "metadata": {
        "id": "QLKhfagmVtVk"
      },
      "execution_count": null,
      "outputs": []
    },
    {
      "cell_type": "code",
      "source": [
        "malo_colombiano = fifa20_1[(fifa20_1[\"overall\"]<70)&(fifa20_1['nationality']==\"Colombia\")]\n",
        "malo_colombiano"
      ],
      "metadata": {
        "colab": {
          "base_uri": "https://localhost:8080/",
          "height": 583
        },
        "id": "w_bAtIv3W5Q1",
        "outputId": "a6596716-4cd5-4979-d674-692f0e00dad5"
      },
      "execution_count": 49,
      "outputs": [
        {
          "output_type": "execute_result",
          "data": {
            "text/html": [
              "<div>\n",
              "<style scoped>\n",
              "    .dataframe tbody tr th:only-of-type {\n",
              "        vertical-align: middle;\n",
              "    }\n",
              "\n",
              "    .dataframe tbody tr th {\n",
              "        vertical-align: top;\n",
              "    }\n",
              "\n",
              "    .dataframe thead th {\n",
              "        text-align: right;\n",
              "    }\n",
              "</style>\n",
              "<table border=\"1\" class=\"dataframe\">\n",
              "  <thead>\n",
              "    <tr style=\"text-align: right;\">\n",
              "      <th></th>\n",
              "      <th>short_name</th>\n",
              "      <th>age</th>\n",
              "      <th>height_cm</th>\n",
              "      <th>nationality</th>\n",
              "      <th>club</th>\n",
              "      <th>overall</th>\n",
              "      <th>potential</th>\n",
              "      <th>value_eur</th>\n",
              "      <th>wage_eur</th>\n",
              "      <th>player_positions</th>\n",
              "      <th>weak_foot</th>\n",
              "      <th>skill_moves</th>\n",
              "    </tr>\n",
              "  </thead>\n",
              "  <tbody>\n",
              "    <tr>\n",
              "      <th>5679</th>\n",
              "      <td>R. Márquez</td>\n",
              "      <td>21</td>\n",
              "      <td>184</td>\n",
              "      <td>Colombia</td>\n",
              "      <td>Unión Magdalena</td>\n",
              "      <td>69</td>\n",
              "      <td>83</td>\n",
              "      <td>2300000</td>\n",
              "      <td>1000</td>\n",
              "      <td>ST</td>\n",
              "      <td>3</td>\n",
              "      <td>2</td>\n",
              "    </tr>\n",
              "    <tr>\n",
              "      <th>5680</th>\n",
              "      <td>J. Carrascal</td>\n",
              "      <td>21</td>\n",
              "      <td>178</td>\n",
              "      <td>Colombia</td>\n",
              "      <td>River Plate</td>\n",
              "      <td>69</td>\n",
              "      <td>82</td>\n",
              "      <td>2000000</td>\n",
              "      <td>8000</td>\n",
              "      <td>CAM</td>\n",
              "      <td>2</td>\n",
              "      <td>4</td>\n",
              "    </tr>\n",
              "    <tr>\n",
              "      <th>5712</th>\n",
              "      <td>L. Sinisterra</td>\n",
              "      <td>20</td>\n",
              "      <td>172</td>\n",
              "      <td>Colombia</td>\n",
              "      <td>Feyenoord</td>\n",
              "      <td>69</td>\n",
              "      <td>80</td>\n",
              "      <td>1800000</td>\n",
              "      <td>6000</td>\n",
              "      <td>RW, LW</td>\n",
              "      <td>2</td>\n",
              "      <td>3</td>\n",
              "    </tr>\n",
              "    <tr>\n",
              "      <th>5738</th>\n",
              "      <td>E. Segura</td>\n",
              "      <td>22</td>\n",
              "      <td>175</td>\n",
              "      <td>Colombia</td>\n",
              "      <td>Los Angeles FC</td>\n",
              "      <td>69</td>\n",
              "      <td>79</td>\n",
              "      <td>1500000</td>\n",
              "      <td>3000</td>\n",
              "      <td>CB</td>\n",
              "      <td>3</td>\n",
              "      <td>2</td>\n",
              "    </tr>\n",
              "    <tr>\n",
              "      <th>5747</th>\n",
              "      <td>G. Fuentes</td>\n",
              "      <td>22</td>\n",
              "      <td>180</td>\n",
              "      <td>Colombia</td>\n",
              "      <td>Junior FC</td>\n",
              "      <td>69</td>\n",
              "      <td>79</td>\n",
              "      <td>1500000</td>\n",
              "      <td>2000</td>\n",
              "      <td>LB</td>\n",
              "      <td>3</td>\n",
              "      <td>2</td>\n",
              "    </tr>\n",
              "    <tr>\n",
              "      <th>...</th>\n",
              "      <td>...</td>\n",
              "      <td>...</td>\n",
              "      <td>...</td>\n",
              "      <td>...</td>\n",
              "      <td>...</td>\n",
              "      <td>...</td>\n",
              "      <td>...</td>\n",
              "      <td>...</td>\n",
              "      <td>...</td>\n",
              "      <td>...</td>\n",
              "      <td>...</td>\n",
              "      <td>...</td>\n",
              "    </tr>\n",
              "    <tr>\n",
              "      <th>17924</th>\n",
              "      <td>J. Solano</td>\n",
              "      <td>23</td>\n",
              "      <td>172</td>\n",
              "      <td>Colombia</td>\n",
              "      <td>Cúcuta Deportivo</td>\n",
              "      <td>52</td>\n",
              "      <td>60</td>\n",
              "      <td>80000</td>\n",
              "      <td>1000</td>\n",
              "      <td>ST</td>\n",
              "      <td>2</td>\n",
              "      <td>2</td>\n",
              "    </tr>\n",
              "    <tr>\n",
              "      <th>17976</th>\n",
              "      <td>E. López</td>\n",
              "      <td>19</td>\n",
              "      <td>178</td>\n",
              "      <td>Colombia</td>\n",
              "      <td>Envigado FC</td>\n",
              "      <td>51</td>\n",
              "      <td>69</td>\n",
              "      <td>80000</td>\n",
              "      <td>1000</td>\n",
              "      <td>CM</td>\n",
              "      <td>2</td>\n",
              "      <td>2</td>\n",
              "    </tr>\n",
              "    <tr>\n",
              "      <th>18019</th>\n",
              "      <td>J. Mesa</td>\n",
              "      <td>21</td>\n",
              "      <td>183</td>\n",
              "      <td>Colombia</td>\n",
              "      <td>América de Cali</td>\n",
              "      <td>51</td>\n",
              "      <td>65</td>\n",
              "      <td>80000</td>\n",
              "      <td>1000</td>\n",
              "      <td>CB</td>\n",
              "      <td>3</td>\n",
              "      <td>2</td>\n",
              "    </tr>\n",
              "    <tr>\n",
              "      <th>18150</th>\n",
              "      <td>D. Ruíz</td>\n",
              "      <td>21</td>\n",
              "      <td>177</td>\n",
              "      <td>Colombia</td>\n",
              "      <td>Unión Magdalena</td>\n",
              "      <td>50</td>\n",
              "      <td>59</td>\n",
              "      <td>40000</td>\n",
              "      <td>1000</td>\n",
              "      <td>RB, CM</td>\n",
              "      <td>2</td>\n",
              "      <td>2</td>\n",
              "    </tr>\n",
              "    <tr>\n",
              "      <th>18226</th>\n",
              "      <td>J. Rengifo</td>\n",
              "      <td>21</td>\n",
              "      <td>175</td>\n",
              "      <td>Colombia</td>\n",
              "      <td>Deportivo Cali</td>\n",
              "      <td>49</td>\n",
              "      <td>56</td>\n",
              "      <td>40000</td>\n",
              "      <td>1000</td>\n",
              "      <td>CM, CAM</td>\n",
              "      <td>3</td>\n",
              "      <td>2</td>\n",
              "    </tr>\n",
              "  </tbody>\n",
              "</table>\n",
              "<p>442 rows × 12 columns</p>\n",
              "</div>"
            ],
            "text/plain": [
              "          short_name  age  height_cm  ... player_positions weak_foot  skill_moves\n",
              "5679      R. Márquez   21        184  ...               ST         3            2\n",
              "5680    J. Carrascal   21        178  ...              CAM         2            4\n",
              "5712   L. Sinisterra   20        172  ...           RW, LW         2            3\n",
              "5738       E. Segura   22        175  ...               CB         3            2\n",
              "5747      G. Fuentes   22        180  ...               LB         3            2\n",
              "...              ...  ...        ...  ...              ...       ...          ...\n",
              "17924      J. Solano   23        172  ...               ST         2            2\n",
              "17976       E. López   19        178  ...               CM         2            2\n",
              "18019        J. Mesa   21        183  ...               CB         3            2\n",
              "18150        D. Ruíz   21        177  ...           RB, CM         2            2\n",
              "18226     J. Rengifo   21        175  ...          CM, CAM         3            2\n",
              "\n",
              "[442 rows x 12 columns]"
            ]
          },
          "metadata": {},
          "execution_count": 49
        }
      ]
    },
    {
      "cell_type": "code",
      "source": [
        "malo_colombiano.plot(kind = \"scatter\", x = \"age\", y = \"potential\", color= \"pink\")"
      ],
      "metadata": {
        "colab": {
          "base_uri": "https://localhost:8080/",
          "height": 298
        },
        "id": "OfBFVsIHTxtz",
        "outputId": "28f74206-f449-428d-cb8e-ed2b7c2b4dbc"
      },
      "execution_count": 48,
      "outputs": [
        {
          "output_type": "execute_result",
          "data": {
            "text/plain": [
              "<matplotlib.axes._subplots.AxesSubplot at 0x7fd906706990>"
            ]
          },
          "metadata": {},
          "execution_count": 48
        },
        {
          "output_type": "display_data",
          "data": {
            "image/png": "[encoded data removed]",
            "text/plain": [
              "<Figure size 432x288 with 1 Axes>"
            ]
          },
          "metadata": {
            "needs_background": "light"
          }
        }
      ]
    }
  ]
}